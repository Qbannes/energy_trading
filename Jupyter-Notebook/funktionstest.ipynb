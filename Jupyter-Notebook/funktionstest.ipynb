{
 "cells": [
  {
   "cell_type": "code",
   "execution_count": null,
   "id": "5763a08e",
   "metadata": {},
   "outputs": [
    {
     "name": "stdout",
     "output_type": "stream",
     "text": [
      "Ergebnis 1: [5, 8, 11, 15]\n",
      "Ergebnis 2: [15, 20, 25]\n",
      "Ergebnis 3: [20]\n"
     ]
    }
   ],
   "source": [
    "# Eine Funktion mit drei Parametern\n",
    "def filter_data(data, min_value, max_value):\n",
    "    \"\"\"\n",
    "    Gibt alle Zahlen aus der Liste 'data' zurück,\n",
    "    die zwischen 'min_value' und 'max_value' liegen.\n",
    "    \"\"\"\n",
    "    filtered = []\n",
    "    for number in data:\n",
    "        if min_value <= number <= max_value:\n",
    "            filtered.append(number)\n",
    "    return filtered\n",
    "\n",
    "# -------------------------------\n",
    "# Erste Verwendung der Funktion\n",
    "# -------------------------------\n",
    "zahlen_liste = [2, 5, 8, 11, 15, 21]\n",
    "untere_grenze = 5\n",
    "obere_grenze = 15\n",
    "# Die Funktionsparameter heißen intern: data, min_value, max_value\n",
    "# Die Variablen hier draußen heißen aber: zahlen_liste, untere_grenze, obere_grenze\n",
    "# Beim Aufruf werden sie den Parametern in der Reihenfolge übergeben\n",
    "ergebnis_1 = filter_data(zahlen_liste, untere_grenze, obere_grenze)\n",
    "print(\"Ergebnis 1:\", ergebnis_1)\n",
    "# Ausgabe: Ergebnis 1: [5, 8, 11, 15]\n",
    "\n",
    "# -------------------------------\n",
    "# Zweite Verwendung mit anderen Variablennamen\n",
    "# -------------------------------\n",
    "werte = [1, 10, 15, 20, 25, 30]\n",
    "startwert = 12\n",
    "endwert = 28\n",
    "# Hier werden völlig andere Variablennamen genutzt, aber die Funktion ist dieselbe.\n",
    "# Die Werte werden einfach den Parametern data, min_value und max_value übergeben.\n",
    "ergebnis_2 = filter_data(werte, startwert, endwert)\n",
    "print(\"Ergebnis 2:\", ergebnis_2)\n",
    "# Ausgabe: Ergebnis 2: [15, 20, 25]\n",
    "\n",
    "# Demonstration mit Keyword-Argumenten\n",
    "# Du kannst Argumente auch explizit benennen, dann spielt die Reihenfolge keine Rolle.\n",
    "ergebnis_3 = filter_data(max_value=50, data=[10, 20, 70, 90], min_value=15)\n",
    "print(\"Ergebnis 3:\", ergebnis_3)\n",
    "# Ausgabe: Ergebnis 3: [20]\n",
    "# -------------------------------\n",
    "# Fazit:\n",
    "# -------------------------------\n",
    "# - Parameter (data, min_value, max_value) sind Platzhalter innerhalb der Funktion.\n",
    "# - Variablen außerhalb (z. B. startwert, endwert) liefern die echten Werte.\n",
    "# - Namen außen und innen müssen nicht gleich heißen.\n"
   ]
  }
 ],
 "metadata": {
  "kernelspec": {
   "display_name": "Python 3",
   "language": "python",
   "name": "python3"
  },
  "language_info": {
   "codemirror_mode": {
    "name": "ipython",
    "version": 3
   },
   "file_extension": ".py",
   "mimetype": "text/x-python",
   "name": "python",
   "nbconvert_exporter": "python",
   "pygments_lexer": "ipython3",
   "version": "3.14.0"
  }
 },
 "nbformat": 4,
 "nbformat_minor": 5
}
